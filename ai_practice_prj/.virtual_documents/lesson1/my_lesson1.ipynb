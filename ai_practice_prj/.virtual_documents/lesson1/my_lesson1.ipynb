





# lenh 1 - xuat chu
print("Hello, Python World!")





!python ex0_hello_world.py


%run ex0_hello_world.py





%run ex1_cale.py





%run ex2_scientufic1.py















